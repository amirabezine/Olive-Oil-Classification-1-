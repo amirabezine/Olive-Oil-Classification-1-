{
 "cells": [
  {
   "cell_type": "code",
   "execution_count": 4,
   "metadata": {},
   "outputs": [
    {
     "name": "stdout",
     "output_type": "stream",
     "text": [
      "initial dataset shape =  (494, 9)\n",
      "augmented dataset shape =  (988, 9)\n"
     ]
    }
   ],
   "source": [
    "import numpy as np\n",
    "import pandas as pd\n",
    "\n",
    "df= pd.read_csv('KNN_data.csv')\n",
    "\n",
    "def add_noise(data, noise_factor=0.05):\n",
    "    noise = np.random.normal(loc=0, scale=noise_factor, size=data.shape)\n",
    "    return data + noise\n",
    "\n",
    "# Assuming your data is stored in a pandas DataFrame called 'df'\n",
    "# Drop the 'class' column before adding noise\n",
    "data = df.drop(columns=['class'])\n",
    "\n",
    "# Add noise to the data\n",
    "augmented_data = add_noise(data)\n",
    "\n",
    "# Add the 'class' column back to the augmented data\n",
    "augmented_data['class'] = df['class']\n",
    "\n",
    "# Combine the original data with the augmented data\n",
    "augmented_df = pd.concat([df, augmented_data], ignore_index=True)\n",
    "\n",
    "print(\"initial dataset shape = \", df.shape)\n",
    "print(\"augmented dataset shape = \", augmented_df.shape)\n"
   ]
  }
 ],
 "metadata": {
  "kernelspec": {
   "display_name": "Python 3",
   "language": "python",
   "name": "python3"
  },
  "language_info": {
   "codemirror_mode": {
    "name": "ipython",
    "version": 3
   },
   "file_extension": ".py",
   "mimetype": "text/x-python",
   "name": "python",
   "nbconvert_exporter": "python",
   "pygments_lexer": "ipython3",
   "version": "3.9.13"
  },
  "orig_nbformat": 4
 },
 "nbformat": 4,
 "nbformat_minor": 2
}
